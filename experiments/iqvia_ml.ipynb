{
 "cells": [
  {
   "cell_type": "code",
   "execution_count": 10,
   "metadata": {},
   "outputs": [],
   "source": [
    "#%pip install datasetsforecast hierarchicalforecast mlforecast neuralforecast xgboost\n"
   ]
  },
  {
   "cell_type": "code",
   "execution_count": 11,
   "metadata": {},
   "outputs": [],
   "source": [
    "import numpy as np\n",
    "import pandas as pd\n",
    "\n",
    "from datasetsforecast.hierarchical import HierarchicalData\n",
    "\n",
    "from neuralforecast import NeuralForecast\n",
    "from neuralforecast.models import NBEATS\n",
    "from neuralforecast.losses.pytorch import GMM\n",
    "\n",
    "from mlforecast import MLForecast\n",
    "from mlforecast.utils import PredictionIntervals\n",
    "import xgboost as xgb\n",
    "\n",
    "#obtain hierarchical reconciliation methods and evaluation\n",
    "from hierarchicalforecast.methods import BottomUp, ERM, MinTrace\n",
    "from hierarchicalforecast.utils import aggregate, HierarchicalPlot\n",
    "from hierarchicalforecast.core import HierarchicalReconciliation\n",
    "from hierarchicalforecast.evaluation import scaled_crps\n"
   ]
  },
  {
   "cell_type": "code",
   "execution_count": 12,
   "metadata": {},
   "outputs": [],
   "source": [
    "df = pd.read_csv('C:\\\\Users\\\\IqraImtiaz\\\\OneDrive - keystonestrategy.com\\\\Documents\\\\Moderna\\\\IQVIA\\\\iqvia_zip.csv')\n",
    "df['Date'] = pd.to_datetime(df['Date'])\n",
    "\n",
    "data = df\n",
    "data = data.dropna()\n",
    "data = data.dropna(subset=['PROVIDER_ZIP'])\n",
    "data[\"PROVIDER_ZIP\"] = data[\"PROVIDER_ZIP\"].astype(str).str.strip()\n",
    "data = data[data['PROVIDER_ZIP'] != \"\\\"\\\"\"]\n",
    "data[\"PROVIDER_ZIP\"] = data[\"PROVIDER_ZIP\"].str.replace(\"\\\"\",\"\")\n",
    "data = data.sort_values(by=['PROVIDER_ZIP', 'Date'])\n",
    "\n",
    "data['zip'] = data['PROVIDER_ZIP'].astype(str).str.split('.',expand=True)[0]\n",
    "data['zip'] = np.where(data['zip'].str.len()==3,'00'+data['zip'],np.where(data['zip'].str.len()==4,'0'+data['zip'],data['zip']))\n",
    "data['zip3'] = data['zip'].str.slice(stop=3)\n",
    "data = data[['Date','zip3','CLM_CNT']]\n",
    "data = data.groupby(['zip3','Date']).sum()\n",
    "\n",
    "# filter on xip codes that have at least 10 data points\n",
    "data = data.groupby('zip3').filter(lambda x: len(x)>10)\n",
    "data.reset_index(inplace=True)\n",
    "\n",
    "grouped_sum = data.groupby('Date')['CLM_CNT'].transform('sum')\n",
    "data['natl_admins'] = grouped_sum\n",
    "data['shares'] = (data['CLM_CNT'] / data['natl_admins'])\n",
    "data['country'] = 'US'\n",
    "df = data"
   ]
  },
  {
   "cell_type": "code",
   "execution_count": 13,
   "metadata": {},
   "outputs": [],
   "source": [
    "# Create a complete set of all possible combinations of zip3 and dates\n",
    "all_dates = pd.date_range(start=df['Date'].min(), end=df['Date'].max(), freq='W-FRI')\n",
    "all_zip3 = df['zip3'].unique()\n",
    "all_country = df['country'].unique()\n",
    "complete_index = pd.MultiIndex.from_product([all_country,all_zip3, all_dates], names=['country','zip3', 'Date'])\n",
    "\n",
    "# Reindex the DataFrame to include all combinations, filling missing values with zeros\n",
    "df_complete = df.set_index(['country','zip3', 'Date']).reindex(complete_index, fill_value=0).reset_index()\n",
    "\n",
    "\n",
    "# Generate the dataset to match the Australian Domestic Tourism example\n",
    "data = df_complete[['country','zip3', 'Date', 'CLM_CNT']].rename(columns={'Date': 'ds', 'CLM_CNT': 'y'})\n",
    "\n",
    "# Define the hierarchical structure (this is similar to the 'spec' you used)\n",
    "spec = [\n",
    "    ['country'],\n",
    "    ['country', 'zip3']\n",
    "]\n",
    "\n",
    "# Aggregate data according to the hierarchy\n",
    "Y_df, S_df, tags = aggregate(data, spec)\n",
    "Y_df = Y_df.reset_index()\n"
   ]
  },
  {
   "cell_type": "code",
   "execution_count": 15,
   "metadata": {},
   "outputs": [
    {
     "data": {
      "image/png": "[encoded data removed]",
      "text/plain": [
       "<Figure size 320x480 with 1 Axes>"
      ]
     },
     "metadata": {},
     "output_type": "display_data"
    }
   ],
   "source": [
    "hplot = HierarchicalPlot(S=S_df, tags=tags)\n",
    "hplot.plot_summing_matrix()\n"
   ]
  },
  {
   "cell_type": "code",
   "execution_count": 18,
   "metadata": {},
   "outputs": [],
   "source": [
    "def sort_hier_df(Y_df, S_df):\n",
    "    # sorts unique_id lexicographically\n",
    "    Y_df.unique_id = Y_df.unique_id.astype('category')\n",
    "    Y_df.unique_id = Y_df.unique_id.cat.set_categories(S_df.index)\n",
    "    Y_df = Y_df.sort_values(by=['unique_id', 'ds'])\n",
    "    return Y_df\n",
    "\n",
    "Y_df = sort_hier_df(Y_df, S_df)\n"
   ]
  },
  {
   "cell_type": "code",
   "execution_count": 24,
   "metadata": {},
   "outputs": [
    {
     "name": "stderr",
     "output_type": "stream",
     "text": [
      "C:\\Users\\IqraImtiaz\\AppData\\Local\\Temp\\ipykernel_29420\\1045809643.py:2: FutureWarning: The default of observed=False is deprecated and will be changed to True in a future version of pandas. Pass observed=False to retain current behavior or observed=True to adopt the future default and silence this warning.\n",
      "  Y_test_df = Y_df.groupby('unique_id').tail(horizon)\n"
     ]
    }
   ],
   "source": [
    "horizon = 7\n",
    "Y_test_df = Y_df.groupby('unique_id').tail(horizon)\n",
    "Y_train_df = Y_df.drop(Y_test_df.index)"
   ]
  },
  {
   "cell_type": "code",
   "execution_count": 28,
   "metadata": {},
   "outputs": [
    {
     "name": "stderr",
     "output_type": "stream",
     "text": [
      "INFO:lightning_fabric.utilities.seed:Seed set to 1\n",
      "INFO:pytorch_lightning.utilities.rank_zero:GPU available: False, used: False\n",
      "INFO:pytorch_lightning.utilities.rank_zero:TPU available: False, using: 0 TPU cores\n",
      "INFO:pytorch_lightning.utilities.rank_zero:HPU available: False, using: 0 HPUs\n",
      "INFO:pytorch_lightning.callbacks.model_summary:\n",
      "  | Name         | Type          | Params | Mode \n",
      "-------------------------------------------------------\n",
      "0 | loss         | GMM           | 100    | train\n",
      "1 | padder_train | ConstantPad1d | 0      | train\n",
      "2 | scaler       | TemporalNorm  | 0      | train\n",
      "3 | blocks       | ModuleList    | 2.8 M  | train\n",
      "-------------------------------------------------------\n",
      "2.8 M     Trainable params\n",
      "1.0 K     Non-trainable params\n",
      "2.8 M     Total params\n",
      "11.232    Total estimated model params size (MB)\n",
      "31        Modules in train mode\n",
      "0         Modules in eval mode\n"
     ]
    },
    {
     "data": {
      "application/vnd.jupyter.widget-view+json": {
       "model_id": "b64226a08d754b3e8fd46c533a69e5cb",
       "version_major": 2,
       "version_minor": 0
      },
      "text/plain": [
       "Sanity Checking: |          | 0/? [00:00<?, ?it/s]"
      ]
     },
     "metadata": {},
     "output_type": "display_data"
    },
    {
     "data": {
      "application/vnd.jupyter.widget-view+json": {
       "model_id": "9ffc5134e2eb4ab3be6005c7344282e5",
       "version_major": 2,
       "version_minor": 0
      },
      "text/plain": [
       "Training: |          | 0/? [00:00<?, ?it/s]"
      ]
     },
     "metadata": {},
     "output_type": "display_data"
    },
    {
     "data": {
      "application/vnd.jupyter.widget-view+json": {
       "model_id": "a83d9bac464547f6b5a9203f8de4a0f3",
       "version_major": 2,
       "version_minor": 0
      },
      "text/plain": [
       "Validation: |          | 0/? [00:00<?, ?it/s]"
      ]
     },
     "metadata": {},
     "output_type": "display_data"
    },
    {
     "data": {
      "application/vnd.jupyter.widget-view+json": {
       "model_id": "d23f1e8a73ae4236b2a8275bf6561753",
       "version_major": 2,
       "version_minor": 0
      },
      "text/plain": [
       "Validation: |          | 0/? [00:00<?, ?it/s]"
      ]
     },
     "metadata": {},
     "output_type": "display_data"
    },
    {
     "name": "stderr",
     "output_type": "stream",
     "text": [
      "INFO:pytorch_lightning.utilities.rank_zero:`Trainer.fit` stopped: `max_steps=200` reached.\n",
      "INFO:pytorch_lightning.utilities.rank_zero:GPU available: False, used: False\n",
      "INFO:pytorch_lightning.utilities.rank_zero:TPU available: False, using: 0 TPU cores\n",
      "INFO:pytorch_lightning.utilities.rank_zero:HPU available: False, using: 0 HPUs\n"
     ]
    },
    {
     "data": {
      "application/vnd.jupyter.widget-view+json": {
       "model_id": "340e7074cafd4143abe345cfecaf18f2",
       "version_major": 2,
       "version_minor": 0
      },
      "text/plain": [
       "Predicting: |          | 0/? [00:00<?, ?it/s]"
      ]
     },
     "metadata": {},
     "output_type": "display_data"
    },
    {
     "name": "stderr",
     "output_type": "stream",
     "text": [
      "c:\\Users\\IqraImtiaz\\.conda\\envs\\nixtla\\lib\\site-packages\\neuralforecast\\core.py:209: FutureWarning: In a future version the predictions will have the id as a column. You can set the `NIXTLA_ID_AS_COL` environment variable to adopt the new behavior and to suppress this warning.\n",
      "  warnings.warn(\n",
      "INFO:pytorch_lightning.utilities.rank_zero:GPU available: False, used: False\n",
      "INFO:pytorch_lightning.utilities.rank_zero:TPU available: False, using: 0 TPU cores\n",
      "INFO:pytorch_lightning.utilities.rank_zero:HPU available: False, using: 0 HPUs\n"
     ]
    },
    {
     "data": {
      "application/vnd.jupyter.widget-view+json": {
       "model_id": "2d2b05cbfb874007aefeb8f1ce20d327",
       "version_major": 2,
       "version_minor": 0
      },
      "text/plain": [
       "Predicting: |          | 0/? [00:00<?, ?it/s]"
      ]
     },
     "metadata": {},
     "output_type": "display_data"
    },
    {
     "name": "stderr",
     "output_type": "stream",
     "text": [
      "c:\\Users\\IqraImtiaz\\.conda\\envs\\nixtla\\lib\\site-packages\\neuralforecast\\core.py:209: FutureWarning: In a future version the predictions will have the id as a column. You can set the `NIXTLA_ID_AS_COL` environment variable to adopt the new behavior and to suppress this warning.\n",
      "  warnings.warn(\n"
     ]
    },
    {
     "ename": "ValueError",
     "evalue": "Cross validation result produced less results than expected. Please verify that the frequency set on the MLForecast constructor matches your series' and that there aren't any missing periods.",
     "output_type": "error",
     "traceback": [
      "\u001b[1;31m---------------------------------------------------------------------------\u001b[0m",
      "\u001b[1;31mValueError\u001b[0m                                Traceback (most recent call last)",
      "Cell \u001b[1;32mIn[28], line 23\u001b[0m\n\u001b[0;32m     17\u001b[0m \u001b[38;5;66;03m#fit/predict XGBRegressor from MLForecast\u001b[39;00m\n\u001b[0;32m     18\u001b[0m mf \u001b[38;5;241m=\u001b[39m MLForecast(models\u001b[38;5;241m=\u001b[39m[xgb\u001b[38;5;241m.\u001b[39mXGBRegressor()], \n\u001b[0;32m     19\u001b[0m                 freq\u001b[38;5;241m=\u001b[39m\u001b[38;5;124m'\u001b[39m\u001b[38;5;124mW\u001b[39m\u001b[38;5;124m'\u001b[39m,\n\u001b[0;32m     20\u001b[0m                 lags\u001b[38;5;241m=\u001b[39m[\u001b[38;5;241m1\u001b[39m,\u001b[38;5;241m2\u001b[39m,\u001b[38;5;241m12\u001b[39m,\u001b[38;5;241m24\u001b[39m],\n\u001b[0;32m     21\u001b[0m                 date_features\u001b[38;5;241m=\u001b[39m[\u001b[38;5;124m'\u001b[39m\u001b[38;5;124mweek\u001b[39m\u001b[38;5;124m'\u001b[39m],\n\u001b[0;32m     22\u001b[0m                 )\n\u001b[1;32m---> 23\u001b[0m \u001b[43mmf\u001b[49m\u001b[38;5;241;43m.\u001b[39;49m\u001b[43mfit\u001b[49m\u001b[43m(\u001b[49m\u001b[43mY_train_df\u001b[49m\u001b[43m,\u001b[49m\u001b[43m \u001b[49m\u001b[43mfitted\u001b[49m\u001b[38;5;241;43m=\u001b[39;49m\u001b[38;5;28;43;01mTrue\u001b[39;49;00m\u001b[43m,\u001b[49m\u001b[43m \u001b[49m\u001b[43mprediction_intervals\u001b[49m\u001b[38;5;241;43m=\u001b[39;49m\u001b[43mPredictionIntervals\u001b[49m\u001b[43m(\u001b[49m\u001b[43mn_windows\u001b[49m\u001b[38;5;241;43m=\u001b[39;49m\u001b[38;5;241;43m5\u001b[39;49m\u001b[43m,\u001b[49m\u001b[43m \u001b[49m\u001b[43mh\u001b[49m\u001b[38;5;241;43m=\u001b[39;49m\u001b[43mhorizon\u001b[49m\u001b[43m)\u001b[49m\u001b[43m)\u001b[49m \n\u001b[0;32m     24\u001b[0m Y_hat_mf \u001b[38;5;241m=\u001b[39m mf\u001b[38;5;241m.\u001b[39mpredict(horizon, level\u001b[38;5;241m=\u001b[39mlevel)\u001b[38;5;241m.\u001b[39mset_index(\u001b[38;5;124m'\u001b[39m\u001b[38;5;124munique_id\u001b[39m\u001b[38;5;124m'\u001b[39m)\n\u001b[0;32m     25\u001b[0m insample_mf \u001b[38;5;241m=\u001b[39m mf\u001b[38;5;241m.\u001b[39mforecast_fitted_values()\n",
      "File \u001b[1;32mc:\\Users\\IqraImtiaz\\.conda\\envs\\nixtla\\lib\\site-packages\\mlforecast\\forecast.py:501\u001b[0m, in \u001b[0;36mMLForecast.fit\u001b[1;34m(self, df, id_col, time_col, target_col, static_features, dropna, keep_last_n, max_horizon, prediction_intervals, fitted, as_numpy)\u001b[0m\n\u001b[0;32m    499\u001b[0m \u001b[38;5;28;01mif\u001b[39;00m prediction_intervals \u001b[38;5;129;01mis\u001b[39;00m \u001b[38;5;129;01mnot\u001b[39;00m \u001b[38;5;28;01mNone\u001b[39;00m:\n\u001b[0;32m    500\u001b[0m     \u001b[38;5;28mself\u001b[39m\u001b[38;5;241m.\u001b[39mprediction_intervals \u001b[38;5;241m=\u001b[39m prediction_intervals\n\u001b[1;32m--> 501\u001b[0m     \u001b[38;5;28mself\u001b[39m\u001b[38;5;241m.\u001b[39m_cs_df \u001b[38;5;241m=\u001b[39m \u001b[38;5;28;43mself\u001b[39;49m\u001b[38;5;241;43m.\u001b[39;49m\u001b[43m_conformity_scores\u001b[49m\u001b[43m(\u001b[49m\n\u001b[0;32m    502\u001b[0m \u001b[43m        \u001b[49m\u001b[43mdf\u001b[49m\u001b[38;5;241;43m=\u001b[39;49m\u001b[43mdf\u001b[49m\u001b[43m,\u001b[49m\n\u001b[0;32m    503\u001b[0m \u001b[43m        \u001b[49m\u001b[43mid_col\u001b[49m\u001b[38;5;241;43m=\u001b[39;49m\u001b[43mid_col\u001b[49m\u001b[43m,\u001b[49m\n\u001b[0;32m    504\u001b[0m \u001b[43m        \u001b[49m\u001b[43mtime_col\u001b[49m\u001b[38;5;241;43m=\u001b[39;49m\u001b[43mtime_col\u001b[49m\u001b[43m,\u001b[49m\n\u001b[0;32m    505\u001b[0m \u001b[43m        \u001b[49m\u001b[43mtarget_col\u001b[49m\u001b[38;5;241;43m=\u001b[39;49m\u001b[43mtarget_col\u001b[49m\u001b[43m,\u001b[49m\n\u001b[0;32m    506\u001b[0m \u001b[43m        \u001b[49m\u001b[43mstatic_features\u001b[49m\u001b[38;5;241;43m=\u001b[39;49m\u001b[43mstatic_features\u001b[49m\u001b[43m,\u001b[49m\n\u001b[0;32m    507\u001b[0m \u001b[43m        \u001b[49m\u001b[43mdropna\u001b[49m\u001b[38;5;241;43m=\u001b[39;49m\u001b[43mdropna\u001b[49m\u001b[43m,\u001b[49m\n\u001b[0;32m    508\u001b[0m \u001b[43m        \u001b[49m\u001b[43mkeep_last_n\u001b[49m\u001b[38;5;241;43m=\u001b[39;49m\u001b[43mkeep_last_n\u001b[49m\u001b[43m,\u001b[49m\n\u001b[0;32m    509\u001b[0m \u001b[43m        \u001b[49m\u001b[43mn_windows\u001b[49m\u001b[38;5;241;43m=\u001b[39;49m\u001b[43mprediction_intervals\u001b[49m\u001b[38;5;241;43m.\u001b[39;49m\u001b[43mn_windows\u001b[49m\u001b[43m,\u001b[49m\n\u001b[0;32m    510\u001b[0m \u001b[43m        \u001b[49m\u001b[43mh\u001b[49m\u001b[38;5;241;43m=\u001b[39;49m\u001b[43mprediction_intervals\u001b[49m\u001b[38;5;241;43m.\u001b[39;49m\u001b[43mh\u001b[49m\u001b[43m,\u001b[49m\n\u001b[0;32m    511\u001b[0m \u001b[43m        \u001b[49m\u001b[43mas_numpy\u001b[49m\u001b[38;5;241;43m=\u001b[39;49m\u001b[43mas_numpy\u001b[49m\u001b[43m,\u001b[49m\n\u001b[0;32m    512\u001b[0m \u001b[43m    \u001b[49m\u001b[43m)\u001b[49m\n\u001b[0;32m    513\u001b[0m prep \u001b[38;5;241m=\u001b[39m \u001b[38;5;28mself\u001b[39m\u001b[38;5;241m.\u001b[39mpreprocess(\n\u001b[0;32m    514\u001b[0m     df\u001b[38;5;241m=\u001b[39mdf,\n\u001b[0;32m    515\u001b[0m     id_col\u001b[38;5;241m=\u001b[39mid_col,\n\u001b[1;32m   (...)\u001b[0m\n\u001b[0;32m    523\u001b[0m     as_numpy\u001b[38;5;241m=\u001b[39mas_numpy,\n\u001b[0;32m    524\u001b[0m )\n\u001b[0;32m    525\u001b[0m \u001b[38;5;28;01mif\u001b[39;00m \u001b[38;5;28misinstance\u001b[39m(prep, \u001b[38;5;28mtuple\u001b[39m):\n",
      "File \u001b[1;32mc:\\Users\\IqraImtiaz\\.conda\\envs\\nixtla\\lib\\site-packages\\mlforecast\\forecast.py:330\u001b[0m, in \u001b[0;36mMLForecast._conformity_scores\u001b[1;34m(self, df, id_col, time_col, target_col, static_features, dropna, keep_last_n, max_horizon, n_windows, h, as_numpy)\u001b[0m\n\u001b[0;32m    324\u001b[0m \u001b[38;5;28;01mif\u001b[39;00m min_size \u001b[38;5;241m<\u001b[39m min_samples:\n\u001b[0;32m    325\u001b[0m     \u001b[38;5;28;01mraise\u001b[39;00m \u001b[38;5;167;01mValueError\u001b[39;00m(\n\u001b[0;32m    326\u001b[0m         \u001b[38;5;124m\"\u001b[39m\u001b[38;5;124mMinimum required samples in each serie for the prediction intervals \u001b[39m\u001b[38;5;124m\"\u001b[39m\n\u001b[0;32m    327\u001b[0m         \u001b[38;5;124mf\u001b[39m\u001b[38;5;124m\"\u001b[39m\u001b[38;5;124msettings are: \u001b[39m\u001b[38;5;132;01m{\u001b[39;00mmin_samples\u001b[38;5;132;01m}\u001b[39;00m\u001b[38;5;124m, shortest serie has: \u001b[39m\u001b[38;5;132;01m{\u001b[39;00mmin_size\u001b[38;5;132;01m}\u001b[39;00m\u001b[38;5;124m. \u001b[39m\u001b[38;5;124m\"\u001b[39m\n\u001b[0;32m    328\u001b[0m         \u001b[38;5;124m\"\u001b[39m\u001b[38;5;124mPlease reduce the number of windows, horizon or remove those series.\u001b[39m\u001b[38;5;124m\"\u001b[39m\n\u001b[0;32m    329\u001b[0m     )\n\u001b[1;32m--> 330\u001b[0m cv_results \u001b[38;5;241m=\u001b[39m \u001b[38;5;28;43mself\u001b[39;49m\u001b[38;5;241;43m.\u001b[39;49m\u001b[43mcross_validation\u001b[49m\u001b[43m(\u001b[49m\n\u001b[0;32m    331\u001b[0m \u001b[43m    \u001b[49m\u001b[43mdf\u001b[49m\u001b[38;5;241;43m=\u001b[39;49m\u001b[43mdf\u001b[49m\u001b[43m,\u001b[49m\n\u001b[0;32m    332\u001b[0m \u001b[43m    \u001b[49m\u001b[43mn_windows\u001b[49m\u001b[38;5;241;43m=\u001b[39;49m\u001b[43mn_windows\u001b[49m\u001b[43m,\u001b[49m\n\u001b[0;32m    333\u001b[0m \u001b[43m    \u001b[49m\u001b[43mh\u001b[49m\u001b[38;5;241;43m=\u001b[39;49m\u001b[43mh\u001b[49m\u001b[43m,\u001b[49m\n\u001b[0;32m    334\u001b[0m \u001b[43m    \u001b[49m\u001b[43mrefit\u001b[49m\u001b[38;5;241;43m=\u001b[39;49m\u001b[38;5;28;43;01mFalse\u001b[39;49;00m\u001b[43m,\u001b[49m\n\u001b[0;32m    335\u001b[0m \u001b[43m    \u001b[49m\u001b[43mid_col\u001b[49m\u001b[38;5;241;43m=\u001b[39;49m\u001b[43mid_col\u001b[49m\u001b[43m,\u001b[49m\n\u001b[0;32m    336\u001b[0m \u001b[43m    \u001b[49m\u001b[43mtime_col\u001b[49m\u001b[38;5;241;43m=\u001b[39;49m\u001b[43mtime_col\u001b[49m\u001b[43m,\u001b[49m\n\u001b[0;32m    337\u001b[0m \u001b[43m    \u001b[49m\u001b[43mtarget_col\u001b[49m\u001b[38;5;241;43m=\u001b[39;49m\u001b[43mtarget_col\u001b[49m\u001b[43m,\u001b[49m\n\u001b[0;32m    338\u001b[0m \u001b[43m    \u001b[49m\u001b[43mstatic_features\u001b[49m\u001b[38;5;241;43m=\u001b[39;49m\u001b[43mstatic_features\u001b[49m\u001b[43m,\u001b[49m\n\u001b[0;32m    339\u001b[0m \u001b[43m    \u001b[49m\u001b[43mdropna\u001b[49m\u001b[38;5;241;43m=\u001b[39;49m\u001b[43mdropna\u001b[49m\u001b[43m,\u001b[49m\n\u001b[0;32m    340\u001b[0m \u001b[43m    \u001b[49m\u001b[43mkeep_last_n\u001b[49m\u001b[38;5;241;43m=\u001b[39;49m\u001b[43mkeep_last_n\u001b[49m\u001b[43m,\u001b[49m\n\u001b[0;32m    341\u001b[0m \u001b[43m    \u001b[49m\u001b[43mmax_horizon\u001b[49m\u001b[38;5;241;43m=\u001b[39;49m\u001b[43mmax_horizon\u001b[49m\u001b[43m,\u001b[49m\n\u001b[0;32m    342\u001b[0m \u001b[43m    \u001b[49m\u001b[43mprediction_intervals\u001b[49m\u001b[38;5;241;43m=\u001b[39;49m\u001b[38;5;28;43;01mNone\u001b[39;49;00m\u001b[43m,\u001b[49m\n\u001b[0;32m    343\u001b[0m \u001b[43m    \u001b[49m\u001b[43mas_numpy\u001b[49m\u001b[38;5;241;43m=\u001b[39;49m\u001b[43mas_numpy\u001b[49m\u001b[43m,\u001b[49m\n\u001b[0;32m    344\u001b[0m \u001b[43m\u001b[49m\u001b[43m)\u001b[49m\n\u001b[0;32m    345\u001b[0m \u001b[38;5;66;03m# conformity score for each model\u001b[39;00m\n\u001b[0;32m    346\u001b[0m \u001b[38;5;28;01mfor\u001b[39;00m model \u001b[38;5;129;01min\u001b[39;00m \u001b[38;5;28mself\u001b[39m\u001b[38;5;241m.\u001b[39mmodels\u001b[38;5;241m.\u001b[39mkeys():\n\u001b[0;32m    347\u001b[0m     \u001b[38;5;66;03m# compute absolute error for each model\u001b[39;00m\n",
      "File \u001b[1;32mc:\\Users\\IqraImtiaz\\.conda\\envs\\nixtla\\lib\\site-packages\\mlforecast\\forecast.py:942\u001b[0m, in \u001b[0;36mMLForecast.cross_validation\u001b[1;34m(self, df, n_windows, h, id_col, time_col, target_col, step_size, static_features, dropna, keep_last_n, refit, max_horizon, before_predict_callback, after_predict_callback, prediction_intervals, level, input_size, fitted, as_numpy)\u001b[0m\n\u001b[0;32m    940\u001b[0m         result \u001b[38;5;241m=\u001b[39m ufp\u001b[38;5;241m.\u001b[39mtake_rows(result, sort_idxs)\n\u001b[0;32m    941\u001b[0m     \u001b[38;5;28;01mif\u001b[39;00m result\u001b[38;5;241m.\u001b[39mshape[\u001b[38;5;241m0\u001b[39m] \u001b[38;5;241m<\u001b[39m valid\u001b[38;5;241m.\u001b[39mshape[\u001b[38;5;241m0\u001b[39m]:\n\u001b[1;32m--> 942\u001b[0m         \u001b[38;5;28;01mraise\u001b[39;00m \u001b[38;5;167;01mValueError\u001b[39;00m(\n\u001b[0;32m    943\u001b[0m             \u001b[38;5;124m\"\u001b[39m\u001b[38;5;124mCross validation result produced less results than expected. \u001b[39m\u001b[38;5;124m\"\u001b[39m\n\u001b[0;32m    944\u001b[0m             \u001b[38;5;124m\"\u001b[39m\u001b[38;5;124mPlease verify that the frequency set on the MLForecast constructor matches your series\u001b[39m\u001b[38;5;124m'\u001b[39m\u001b[38;5;124m \u001b[39m\u001b[38;5;124m\"\u001b[39m\n\u001b[0;32m    945\u001b[0m             \u001b[38;5;124m\"\u001b[39m\u001b[38;5;124mand that there aren\u001b[39m\u001b[38;5;124m'\u001b[39m\u001b[38;5;124mt any missing periods.\u001b[39m\u001b[38;5;124m\"\u001b[39m\n\u001b[0;32m    946\u001b[0m         )\n\u001b[0;32m    947\u001b[0m     results\u001b[38;5;241m.\u001b[39mappend(result)\n\u001b[0;32m    948\u001b[0m \u001b[38;5;28;01mdel\u001b[39;00m \u001b[38;5;28mself\u001b[39m\u001b[38;5;241m.\u001b[39mmodels_\n",
      "\u001b[1;31mValueError\u001b[0m: Cross validation result produced less results than expected. Please verify that the frequency set on the MLForecast constructor matches your series' and that there aren't any missing periods."
     ]
    }
   ],
   "source": [
    "level = np.arange(0, 100, 2)\n",
    "qs = [[50-lv/2, 50+lv/2] for lv in level]\n",
    "quantiles = np.sort(np.concatenate(qs)/100)\n",
    "\n",
    "#fit/predict NBEATS from NeuralForecast\n",
    "nbeats = NBEATS(h=horizon,\n",
    "              input_size=2*horizon,\n",
    "              loss=GMM(n_components=10, quantiles=quantiles),\n",
    "              scaler_type='robust',\n",
    "              max_steps=200)\n",
    "\n",
    "nf = NeuralForecast(models=[nbeats], freq='W')\n",
    "nf.fit(df=Y_train_df)\n",
    "Y_hat_nf = nf.predict()\n",
    "insample_nf = nf.predict_insample(step_size=horizon)\n",
    "\n",
    "#fit/predict XGBRegressor from MLForecast\n",
    "mf = MLForecast(models=[xgb.XGBRegressor()], \n",
    "                freq='W',\n",
    "                lags=[1,2,12,24],\n",
    "                date_features=['week'],\n",
    "                )\n",
    "mf.fit(Y_train_df, fitted=True, prediction_intervals=PredictionIntervals(n_windows=5, h=horizon)) \n",
    "Y_hat_mf = mf.predict(horizon, level=level).set_index('unique_id')\n",
    "insample_mf = mf.forecast_fitted_values()\n"
   ]
  },
  {
   "cell_type": "code",
   "execution_count": null,
   "metadata": {},
   "outputs": [],
   "source": []
  }
 ],
 "metadata": {
  "kernelspec": {
   "display_name": "nixtla",
   "language": "python",
   "name": "python3"
  },
  "language_info": {
   "codemirror_mode": {
    "name": "ipython",
    "version": 3
   },
   "file_extension": ".py",
   "mimetype": "text/x-python",
   "name": "python",
   "nbconvert_exporter": "python",
   "pygments_lexer": "ipython3",
   "version": "3.10.14"
  }
 },
 "nbformat": 4,
 "nbformat_minor": 2
}
